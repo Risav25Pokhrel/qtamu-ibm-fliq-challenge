{
 "cells": [
  {
   "cell_type": "markdown",
   "id": "99cd7b44",
   "metadata": {},
   "source": []
  }
 ],
 "metadata": {
  "language_info": {
   "name": "python"
  }
 },
 "nbformat": 4,
 "nbformat_minor": 5
}
