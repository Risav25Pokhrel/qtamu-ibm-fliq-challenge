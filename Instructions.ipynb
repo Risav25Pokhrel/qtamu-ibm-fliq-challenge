{
 "cells": [
  {
   "cell_type": "markdown",
   "id": "d9a6590e",
   "metadata": {},
   "source": [
    "# Challenge Format\n",
    "\n",
    "The goal of this hackathon challenge is to create an educational, beginner-friendly tutorial that guides participants through implementing a famous quantum experiment on real IBM quantum hardware using Qiskit. The challenge is designed to be approachable for high school and undergraduate students, emphasizing both conceptual understanding and practical skills."
   ]
  },
  {
   "cell_type": "markdown",
   "id": "b9a0864e",
   "metadata": {},
   "source": [
    "## Challenge Goals\n",
    "\n",
    "- **Teach a foundational quantum experiment** (e.g., Bell State, Shor’s Algorithm with 5–7 qubits, Double-slit, etc.)\n",
    "- **Guide students step by step** from theory to implementation, building intuition about why each part of the algorithm works.\n",
    "- **Run at least one exercise on real IBM Qiskit hardware** (using free backends, with short runtime).\n",
    "- **Make results easy to understand and visualize** for beginners.\n",
    "- **Avoid significant overlap** with other hackathon challenges.\n",
    "- **Ensure clarity, accessibility, and educational value** throughout the notebook."
   ]
  },
  {
   "cell_type": "markdown",
   "id": "39d7c0b9",
   "metadata": {},
   "source": [
    "## Challenge Structure\n",
    "\n",
    "### 1. **Step-by-Step Tutorial**\n",
    "\n",
    "- Break down the chosen experiment into intuitive steps.\n",
    "- Connect mathematical concepts to quantum circuit construction.\n",
    "- Anticipate and address common points of confusion.\n",
    "\n",
    "### 2. **Qiskit Implementation**\n",
    "\n",
    "- All code must run on:\n",
    "  - Local Qiskit installations (Windows/Mac)\n",
    "  - qBraid Lab (`lab.qbraid.com`)\n",
    "- At least one exercise must run on real IBM Qiskit hardware.\n",
    "- Include code for:\n",
    "  - Submitting jobs and saving Job IDs\n",
    "  - Retrieving and visualizing results\n",
    "  - Estimating runtime (preferably <5 minutes per job)\n",
    "\n",
    "### 3. **Testing and Grading**\n",
    "\n",
    "- Provide a separate `.py` script for local correctness checks before hardware submission.\n",
    "\n",
    "### 4. **Visualization**\n",
    "\n",
    "- Use plots, circuit diagrams, and other visual tools to clarify results and concepts.\n",
    "\n",
    "### 5. **Exercises**\n",
    "\n",
    "- Include 1–3 smaller exercises that build toward the final hardware experiment.\n",
    "- Final exercise should be tuneable (e.g., number of qubits, measurement basis).\n",
    "- At least one exercise should require thoughtful reasoning, not just code completion."
   ]
  },
  {
   "cell_type": "markdown",
   "id": "6da1027c",
   "metadata": {},
   "source": [
    "## Submission Guidelines\n",
    "\n",
    "- Post your Jupyter Notebook on GitHub.\n",
    "- Include all explanations, code, and results in the notebook (see Sample.ipynb for more info).\n",
    "- Add any additional files (e.g., testing scripts) to the same repository.\n",
    "- Ensure the notebook renders correctly on GitHub and is easy to follow.\n",
    "- Provide a README with brief instructions for running the notebook locally.\n",
    "- Submit your GitHub repo link via the official submission form."
   ]
  },
  {
   "cell_type": "markdown",
   "id": "8228ddcd",
   "metadata": {},
   "source": [
    "## Resources\n",
    "\n",
    "- [Qiskit Documentation](https://docs.quantum.ibm.com/guides/install-qiskit)\n",
    "- [IBM Quantum Challenge Example Notebooks](https://github.com/qiskit-community/ibm-quantum-challenge-2024/tree/main/content/lab_3)\n",
    "- [Qiskit Hackathon Exercises](https://github.com/qiskit-community/Qiskit-Hackathon-at-World-of-QUANTUM/Exercises/Medium_Multiple_Qubit_Gates.ipynb)\n",
    "- [Qiskit Fall Fest](https://dorahacks.io/hackathon/564/detail)"
   ]
  },
  {
   "cell_type": "markdown",
   "id": "7537a988",
   "metadata": {},
   "source": [
    "**Note:** This challenge is designed for educational purposes. Focus on clear, direct teaching, avoiding marketing language or basic code tutorials. \n",
    "The aim is to help participants learn about and implement quantum experiments on real hardware, building both confidence and curiosity in quantum computing during the International Year of Quantum, 2025!\n"
   ]
  }
 ],
 "metadata": {
  "language_info": {
   "name": "python"
  }
 },
 "nbformat": 4,
 "nbformat_minor": 5
}
