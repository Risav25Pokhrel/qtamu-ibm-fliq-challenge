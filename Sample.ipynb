{
 "cells": [
  {
   "cell_type": "markdown",
   "id": "0ba72d35",
   "metadata": {},
   "source": [
    "# Sample Submission\n",
    "\n",
    "----\n",
    "\n",
    "## Experiment Name\n",
    "\n",
    "- Write the name of the experiment\n",
    "- List team members\n",
    "\n",
    "### Experiment Analysis\n",
    "\n",
    "- Explain what your experiment is. Remember to cite your sources!\n",
    "- Define necessary terms related to the field: should be accessible to the average high school student.\n",
    "- Post any relevant images/figures here to illustrate the outputs. \n",
    "- What impact did this experiment have on its field?"
   ]
  },
  {
   "cell_type": "markdown",
   "id": "890a57ec",
   "metadata": {},
   "source": [
    "### Qiskit Implementation\n",
    "\n",
    "- Post your Python code, and explain what each portion does.\n",
    "- Whether the medium is through Jupyter notebook or a .py file, use comments to organize code.\n",
    "- Add your additional tests here as well, if further validation required "
   ]
  },
  {
   "cell_type": "code",
   "execution_count": 3,
   "id": "347b75e4",
   "metadata": {},
   "outputs": [],
   "source": [
    "# Your code here"
   ]
  },
  {
   "cell_type": "markdown",
   "id": "b4280817",
   "metadata": {},
   "source": [
    "### Results\n",
    "\n",
    "- Exhibit all of the code which was used to generate the results.\n",
    "- Detail the methods used to run the experiment on IBM backend (required). "
   ]
  },
  {
   "cell_type": "code",
   "execution_count": 4,
   "id": "04ad4140",
   "metadata": {},
   "outputs": [],
   "source": [
    "# Your code here"
   ]
  },
  {
   "cell_type": "markdown",
   "id": "6e26dbed",
   "metadata": {},
   "source": [
    "### Instructions for Runtime\n",
    "\n",
    "- Provide instructions for running the code and replicating your experiment.\n",
    "- Clarify why the parameters that were used in your testing were used, and propose any future work for those interested in testing this code. "
   ]
  },
  {
   "cell_type": "markdown",
   "id": "fa750c2c",
   "metadata": {},
   "source": [
    "### References\n",
    "\n",
    "- List all references and supplementary material used\n",
    "- Record which version of Qiskit was used"
   ]
  }
 ],
 "metadata": {
  "kernelspec": {
   "display_name": "Python 3",
   "language": "python",
   "name": "python3"
  },
  "language_info": {
   "codemirror_mode": {
    "name": "ipython",
    "version": 3
   },
   "file_extension": ".py",
   "mimetype": "text/x-python",
   "name": "python",
   "nbconvert_exporter": "python",
   "pygments_lexer": "ipython3",
   "version": "3.11.9"
  }
 },
 "nbformat": 4,
 "nbformat_minor": 5
}
